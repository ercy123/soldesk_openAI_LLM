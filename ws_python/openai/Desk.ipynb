{
 "cells": [
  {
   "cell_type": "markdown",
   "id": "01ac922a-7abc-40f0-91ac-69c163ca49fe",
   "metadata": {},
   "source": [
    "# 책상 꾸미기 취향 파악"
   ]
  },
  {
   "cell_type": "code",
   "execution_count": null,
   "id": "30b3f4a5-d069-4407-9450-cf14e79806b2",
   "metadata": {},
   "outputs": [],
   "source": [
    "# Google Colab 환경에서 Google Drive를 사용하려면, 먼저 Google Drive를 마운트해야 한다.\n",
    "# '/content/drive'는 Google Drive가 마운트될 경로\n",
    "# 이 경로를 통해 Google Drive의 파일에 접근할 수 있다.\n",
    "# 'drive.mount' 메서드는 인증 프로세스를 시작하며, Google 계정에 대한 접근 권한을 요청한다.\n",
    "# 이 과정에서 제공된 링크를 클릭하고 인증 코드를 입력해야 한다.\n",
    "import os\n",
    "from google.colab import drive\n",
    "drive.mount('/content/drive')\n",
    "\n",
    "path = '/content/drive/My Drive/openai/' # Colab\n",
    "\n",
    "os.chdir(path) # 기본 경로 설정"
   ]
  },
  {
   "cell_type": "code",
   "execution_count": 4,
   "id": "3a75ba92-82b1-41ce-ab85-974aee2bb50c",
   "metadata": {},
   "outputs": [],
   "source": [
    "import json\n",
    "import random\n",
    "import tool  # tool.py"
   ]
  },
  {
   "cell_type": "markdown",
   "id": "77367247-77d9-4e8a-a0ac-90393425cca0",
   "metadata": {},
   "source": [
    "## Prompt"
   ]
  },
  {
   "cell_type": "code",
   "execution_count": 5,
   "id": "9ce5b041-c01e-4eab-9a7e-a98fd76441cb",
   "metadata": {},
   "outputs": [],
   "source": [
    "user_selected = '46.jpg, 47.jpg, 48.jpg, 41.jpg, 42.jpg, 36.jpg, 37.jpg, 1.jpg, 6.jpg, 11.jpg'\n",
    "prompt='''\n",
    "사용자를 3가지 그룹으로 분류하는 중이야, 가장 선호도가 높은 그룹 3가지를 추천하고 아래의 기준을 적용하여 분류해줘.\n",
    "\n",
    "[분류 기준]\n",
    "brown: 1.jpg, 2.jpg, 3.jpg, 4.jpg, 5.jpg\n",
    "cozy: 6.jpg, 7.jpg, 8.jpg, 9.jpg, 10.jpg\n",
    "ivory: 11.jpg, 12.jpg, 13.jpg, 14.jpg, 15.jpg\n",
    "kitsch: 16.jpg, 17.jpg, 18.jpg, 19.jpg, 20.jpg\n",
    "modern: 21.jpg, 22.jpg, 23.jpg, 24.jpg, 25.jpg\n",
    "nature: 26.jpg, 27.jpg, 28.jpg, 29.jpg, 30.jpg\n",
    "pink: 31.jpg, 32.jpg, 33.jpg, 34.jpg, 35.jpg\n",
    "study: 36.jpg, 37.jpg, 38.jpg, 39.jpg, 40.jpg\n",
    "work: 41.jpg, 42.jpg, 43.jpg, 44.jpg, 45.jpg\n",
    "y2k: 46.jpg, 47.jpg, 48.jpg, 49.jpg, 50.jpg\n",
    "\n",
    "[사용자가 선택한 이미지]\n",
    "''' + user_selected\n",
    "\n",
    "format = '{ \"res\": \"최우선 추천/중간 추천/마지막 추천\"}'"
   ]
  },
  {
   "cell_type": "code",
   "execution_count": 6,
   "id": "80ddd287-baf5-4754-b763-6b9614769ac2",
   "metadata": {},
   "outputs": [
    {
     "name": "stdout",
     "output_type": "stream",
     "text": [
      "\n",
      "사용자를 3가지 그룹으로 분류하는 중이야, 가장 선호도가 높은 그룹 3가지를 추천하고 아래의 기준을 적용하여 분류해줘.\n",
      "\n",
      "[분류 기준]\n",
      "brown: 1.jpg, 2.jpg, 3.jpg, 4.jpg, 5.jpg\n",
      "cozy: 6.jpg, 7.jpg, 8.jpg, 9.jpg, 10.jpg\n",
      "ivory: 11.jpg, 12.jpg, 13.jpg, 14.jpg, 15.jpg\n",
      "kitsch: 16.jpg, 17.jpg, 18.jpg, 19.jpg, 20.jpg\n",
      "modern: 21.jpg, 22.jpg, 23.jpg, 24.jpg, 25.jpg\n",
      "nature: 26.jpg, 27.jpg, 28.jpg, 29.jpg, 30.jpg\n",
      "pink: 31.jpg, 32.jpg, 33.jpg, 34.jpg, 35.jpg\n",
      "study: 36.jpg, 37.jpg, 38.jpg, 39.jpg, 40.jpg\n",
      "work: 41.jpg, 42.jpg, 43.jpg, 44.jpg, 45.jpg\n",
      "y2k: 46.jpg, 47.jpg, 48.jpg, 49.jpg, 50.jpg\n",
      "\n",
      "[사용자가 선택한 이미지]\n",
      "46.jpg, 47.jpg, 48.jpg, 41.jpg, 42.jpg, 36.jpg, 37.jpg, 1.jpg, 6.jpg, 11.jpg\n"
     ]
    }
   ],
   "source": [
    "print(prompt)"
   ]
  },
  {
   "cell_type": "code",
   "execution_count": 7,
   "id": "e76e2f38-848f-4671-b50b-0f2e92a4ff50",
   "metadata": {},
   "outputs": [
    {
     "name": "stdout",
     "output_type": "stream",
     "text": [
      "{'res': '최우선 추천: y2k, 중간 추천: work, 마지막 추천: brown'}\n"
     ]
    }
   ],
   "source": [
    "response = tool.answer(role='너는 방을 꾸며주는 회사 직원이야', prompt = prompt, output='json', format=format, llm='gpt-4o-mini-2024-07-18')\n",
    "print(response)"
   ]
  },
  {
   "cell_type": "markdown",
   "id": "d88beabf-a212-4a2b-aec8-9c7d7d1e0744",
   "metadata": {},
   "source": [
    "## 파일명 생성"
   ]
  },
  {
   "cell_type": "code",
   "execution_count": 10,
   "id": "4044f328-e28c-4936-84eb-6eb9d2c1ce48",
   "metadata": {},
   "outputs": [
    {
     "name": "stdout",
     "output_type": "stream",
     "text": [
      "[1, 2, 3, 4, 5, 6, 7, 8, 9, 10, 11, 12, 13, 14, 15, 16, 17, 18, 19, 20, 21, 22, 23, 24, 25, 26, 27, 28, 29, 30, 31, 32, 33, 34, 35, 36, 37, 38, 39, 40, 41, 42, 43, 44, 45, 46, 47, 48, 49, 50]\n"
     ]
    }
   ],
   "source": [
    "imgs = [i for i in range(1, 51, 1)]\n",
    "print(imgs)"
   ]
  },
  {
   "cell_type": "markdown",
   "id": "80297f85-9010-429e-b930-9e324e200243",
   "metadata": {},
   "source": [
    "## 무작위 추출(복원 추출)"
   ]
  },
  {
   "cell_type": "code",
   "execution_count": 12,
   "id": "b5192682-0787-4f41-be8c-ad6d81b20861",
   "metadata": {},
   "outputs": [
    {
     "name": "stdout",
     "output_type": "stream",
     "text": [
      "[27, 17, 11, 13, 49, 40, 17, 49, 41, 10, 11, 20, 18, 28, 29, 27, 5, 23, 33, 20, 6, 40, 35, 23, 12, 6, 32, 37, 36, 14, 31, 22, 11, 35, 40, 6, 9, 5, 37, 45, 35, 47, 11, 30, 41, 25, 47, 1, 15, 32]\n"
     ]
    }
   ],
   "source": [
    "# 복원 추출\n",
    "imgs_choice = random.choices(imgs,k=50)\n",
    "print(imgs_choice)"
   ]
  },
  {
   "cell_type": "code",
   "execution_count": 13,
   "id": "003f7a43-a586-4eda-bd30-e15f943953eb",
   "metadata": {},
   "outputs": [
    {
     "name": "stdout",
     "output_type": "stream",
     "text": [
      "11    4\n",
      "6     3\n",
      "40    3\n",
      "35    3\n",
      "5     2\n",
      "47    2\n",
      "37    2\n",
      "32    2\n",
      "17    2\n",
      "23    2\n",
      "27    2\n",
      "20    2\n",
      "41    2\n",
      "49    2\n",
      "29    1\n",
      "22    1\n",
      "1     1\n",
      "25    1\n",
      "30    1\n",
      "13    1\n",
      "45    1\n",
      "9     1\n",
      "14    1\n",
      "31    1\n",
      "28    1\n",
      "36    1\n",
      "12    1\n",
      "10    1\n",
      "33    1\n",
      "18    1\n",
      "15    1\n",
      "Name: count, dtype: int64\n"
     ]
    }
   ],
   "source": [
    "import pandas as pd\n",
    "\n",
    "imgs_choice_ser = pd.Series(imgs_choice)\n",
    "frequency = imgs_choice_ser.value_counts()\n",
    "print(frequency)"
   ]
  },
  {
   "cell_type": "markdown",
   "id": "d01d3bc3-def9-4e01-a0f4-aef4e2b666dc",
   "metadata": {},
   "source": [
    "## 무작위 추출(비복원 추출)"
   ]
  },
  {
   "cell_type": "code",
   "execution_count": 15,
   "id": "0a3275a8-c104-4e12-8f74-df11f891d5fc",
   "metadata": {},
   "outputs": [
    {
     "name": "stdout",
     "output_type": "stream",
     "text": [
      "[15, 21, 8, 45, 41, 40, 4, 42, 38, 36, 43, 48, 31, 44, 9, 25, 47, 19, 6, 49, 20, 35, 11, 14, 3, 30, 2, 28, 39, 12, 24, 10, 33, 18, 23, 22, 7, 34, 5, 17, 16, 32, 1, 46, 26, 27, 29, 50, 37, 13]\n"
     ]
    }
   ],
   "source": [
    " # 비복원 추출\n",
    "imgs_sample = random.sample(imgs,k=50)\n",
    "print(imgs_sample)"
   ]
  },
  {
   "cell_type": "code",
   "execution_count": 16,
   "id": "0f1ebb22-03d6-460a-8174-ca5eed9ff273",
   "metadata": {},
   "outputs": [
    {
     "name": "stdout",
     "output_type": "stream",
     "text": [
      "15    1\n",
      "34    1\n",
      "28    1\n",
      "39    1\n",
      "12    1\n",
      "24    1\n",
      "10    1\n",
      "33    1\n",
      "18    1\n",
      "23    1\n",
      "22    1\n",
      "7     1\n",
      "5     1\n",
      "21    1\n",
      "17    1\n",
      "16    1\n",
      "32    1\n",
      "1     1\n",
      "46    1\n",
      "26    1\n",
      "27    1\n",
      "29    1\n",
      "50    1\n",
      "37    1\n",
      "2     1\n",
      "30    1\n",
      "3     1\n",
      "14    1\n",
      "8     1\n",
      "45    1\n",
      "41    1\n",
      "40    1\n",
      "4     1\n",
      "42    1\n",
      "38    1\n",
      "36    1\n",
      "43    1\n",
      "48    1\n",
      "31    1\n",
      "44    1\n",
      "9     1\n",
      "25    1\n",
      "47    1\n",
      "19    1\n",
      "6     1\n",
      "49    1\n",
      "20    1\n",
      "35    1\n",
      "11    1\n",
      "13    1\n",
      "Name: count, dtype: int64\n"
     ]
    }
   ],
   "source": [
    "imgs_choice_ser = pd.Series(imgs_sample)\n",
    "frequency = imgs_choice_ser.value_counts()\n",
    "print(frequency)"
   ]
  },
  {
   "cell_type": "markdown",
   "id": "660d98c5-6010-463c-83e8-3f57ee2bf6b4",
   "metadata": {},
   "source": [
    "## 레이블 분할"
   ]
  },
  {
   "cell_type": "code",
   "execution_count": 17,
   "id": "8c84baea-6bc7-4a7f-8494-a2c8cc640656",
   "metadata": {},
   "outputs": [
    {
     "name": "stdout",
     "output_type": "stream",
     "text": [
      "['nature', 'cozy', 'brown']\n"
     ]
    }
   ],
   "source": [
    "recommends = 'nature/cozy/brown'.split('/')\n",
    "print(recommends)"
   ]
  },
  {
   "cell_type": "markdown",
   "id": "3e644f03-c4f8-48a1-b910-ae2a33cf2f81",
   "metadata": {},
   "source": [
    "## 레이블 수치화(벡터화)"
   ]
  },
  {
   "cell_type": "code",
   "execution_count": 18,
   "id": "4a9302d7-d9e7-4001-bcf0-1de10935e00e",
   "metadata": {},
   "outputs": [
    {
     "name": "stdout",
     "output_type": "stream",
     "text": [
      "nature\n",
      "cozy\n",
      "brown\n"
     ]
    }
   ],
   "source": [
    "# DBMS\n",
    "# 1: 'ivory', 2: 'brown', 3: 'pink', 4: 'study', 5: 'nature'.....\n",
    "labels = ['ivory', 'brown', 'pink', 'study', 'nature', 'modern', 'kitsch', 'y2k', 'cozy', 'work']\n",
    "for item in recommends:\n",
    "    print(item.strip())"
   ]
  },
  {
   "cell_type": "code",
   "execution_count": 14,
   "id": "d5b2b202-95ea-4396-8a42-6e45ad3766c7",
   "metadata": {},
   "outputs": [
    {
     "name": "stdout",
     "output_type": "stream",
     "text": [
      "추천 우선 순위: 1, 추천 카테고리: 5, 추천 레이블: nature\n",
      "추천 우선 순위: 2, 추천 카테고리: 9, 추천 레이블: cozy\n",
      "추천 우선 순위: 3, 추천 카테고리: 2, 추천 레이블: brown\n"
     ]
    }
   ],
   "source": [
    "for seq, recom in enumerate(recommends): #추천순위, 항목\n",
    "    for i, item in enumerate(labels):#인덱스, 항목\n",
    "        if recom.strip() == item:\n",
    "            print(f'추천 우선 순위: {seq+1}, 추천 카테고리: {i+1}, 추천 레이블: {item}')"
   ]
  },
  {
   "cell_type": "code",
   "execution_count": null,
   "id": "19c58d5b-e355-46eb-95dc-0c806cf6d07e",
   "metadata": {},
   "outputs": [],
   "source": [
    "# DBMS 오라클에 저장\n",
    "# 사용자로부터 이용 정보 수집\n",
    "# 협업 필터링, 행렬 요인 기반 사용자 선호 상품 추천(Scikit-learn, machine learning) \n",
    "# -> 사용자가 구입하면 좋은 평가를 할것 같은 상품이나, 영화나 기타 컨텐츠 추천"
   ]
  }
 ],
 "metadata": {
  "kernelspec": {
   "display_name": "ai",
   "language": "python",
   "name": "python3"
  },
  "language_info": {
   "codemirror_mode": {
    "name": "ipython",
    "version": 3
   },
   "file_extension": ".py",
   "mimetype": "text/x-python",
   "name": "python",
   "nbconvert_exporter": "python",
   "pygments_lexer": "ipython3",
   "version": "3.10.14"
  }
 },
 "nbformat": 4,
 "nbformat_minor": 5
}
