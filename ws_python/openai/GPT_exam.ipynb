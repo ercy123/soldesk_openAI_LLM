{
 "cells": [
  {
   "cell_type": "code",
   "execution_count": 2,
   "id": "e26fcfcb",
   "metadata": {},
   "outputs": [
    {
     "name": "stdout",
     "output_type": "stream",
     "text": [
      "The sum of numbers from 1 to 100 is: 5050\n"
     ]
    }
   ],
   "source": [
    "# Function to calculate the sum of numbers from 1 to 100\n",
    "def sum_of_numbers():\n",
    "    return sum(range(1, 101))\n",
    "\n",
    "# Call the function and print the result\n",
    "result = sum_of_numbers()\n",
    "print(\"The sum of numbers from 1 to 100 is:\", result)"
   ]
  },
  {
   "cell_type": "code",
   "execution_count": 6,
   "id": "b40dd0f2",
   "metadata": {},
   "outputs": [
    {
     "name": "stdout",
     "output_type": "stream",
     "text": [
      "Enter a number: 13\n",
      "13 is odd\n"
     ]
    }
   ],
   "source": [
    "# Function to check if a number is even or odd\n",
    "def check_even_odd(number):\n",
    "    if number % 2 == 0:\n",
    "        return f\"{number} is even\"\n",
    "    else:\n",
    "        return f\"{number} is odd\"\n",
    "\n",
    "# Ask the user for input\n",
    "user_input = int(input(\"Enter a number: \"))\n",
    "\n",
    "# Call the function and print the result\n",
    "result = check_even_odd(user_input)\n",
    "print(result)\n"
   ]
  },
  {
   "cell_type": "code",
   "execution_count": 10,
   "id": "866ccfeb",
   "metadata": {},
   "outputs": [
    {
     "name": "stdout",
     "output_type": "stream",
     "text": [
      "국가를 입력하세요 (A: 일본, B: 태국, C: 필리핀): 1\n",
      "대인 수를 입력하세요: 1\n",
      "소인 수를 입력하세요: 1\n",
      "잘못된 국가명입니다. A(일본), B(태국), C(필리핀) 중 선택하세요.\n"
     ]
    }
   ],
   "source": [
    "# 여행 경비를 산출하는 함수\n",
    "def calculate_travel_expenses(country, adults, children):\n",
    "    # 각 나라의 경비 정보\n",
    "    travel_costs = {\n",
    "        'A': {'name': '일본', 'adult': 1000000, 'child': 700000},\n",
    "        'B': {'name': '태국', 'adult': 700000, 'child': 500000},\n",
    "        'C': {'name': '필리핀', 'adult': 600000, 'child': 400000}\n",
    "    }\n",
    "    \n",
    "    # 선택한 국가의 정보\n",
    "    if country in travel_costs:\n",
    "        country_info = travel_costs[country]\n",
    "        total_adult_cost = adults * country_info['adult']\n",
    "        total_child_cost = children * country_info['child']\n",
    "        total_cost = total_adult_cost + total_child_cost\n",
    "\n",
    "        # 출력\n",
    "        print(f\"국가명: {country_info['name']}\")\n",
    "        print(\"-----------------------\")\n",
    "        print(f\"대인: {adults} 명 {total_adult_cost:,} 원\")\n",
    "        print(f\"소인: {children} 명 {total_child_cost:,} 원\")\n",
    "        print(\"-----------------------\")\n",
    "        print(f\"경비 합계: {total_cost:,} 원\")\n",
    "    else:\n",
    "        print(\"잘못된 국가명입니다. A(일본), B(태국), C(필리핀) 중 선택하세요.\")\n",
    "\n",
    "# 사용자 입력 받기\n",
    "country_input = input(\"국가를 입력하세요 (A: 일본, B: 태국, C: 필리핀): \").upper()\n",
    "adults_input = int(input(\"대인 수를 입력하세요: \"))\n",
    "children_input = int(input(\"소인 수를 입력하세요: \"))\n",
    "\n",
    "# 함수 호출\n",
    "calculate_travel_expenses(country_input, adults_input, children_input)"
   ]
  },
  {
   "cell_type": "code",
   "execution_count": 13,
   "id": "25379cf8",
   "metadata": {},
   "outputs": [
    {
     "name": "stdout",
     "output_type": "stream",
     "text": [
      "Name: pandas\n",
      "Version: 2.2.2\n",
      "Summary: Powerful data structures for data analysis, time series, and statistics\n",
      "Home-page: https://pandas.pydata.org\n",
      "Author: \n",
      "Author-email: The Pandas Development Team <pandas-dev@python.org>\n",
      "License: BSD 3-Clause License\n",
      "        \n",
      "        Copyright (c) 2008-2011, AQR Capital Management, LLC, Lambda Foundry, Inc. and PyData Development Team\n",
      "        All rights reserved.\n",
      "        \n",
      "        Copyright (c) 2011-2023, Open source contributors.\n",
      "        \n",
      "        Redistribution and use in source and binary forms, with or without\n",
      "        modification, are permitted provided that the following conditions are met:\n",
      "        \n",
      "        * Redistributions of source code must retain the above copyright notice, this\n",
      "          list of conditions and the following disclaimer.\n",
      "        \n",
      "        * Redistributions in binary form must reproduce the above copyright notice,\n",
      "          this list of conditions and the following disclaimer in the documentation\n",
      "          and/or other materials provided with the distribution.\n",
      "        \n",
      "        * Neither the name of the copyright holder nor the names of its\n",
      "          contributors may be used to endorse or promote products derived from\n",
      "          this software without specific prior written permission.\n",
      "        \n",
      "        THIS SOFTWARE IS PROVIDED BY THE COPYRIGHT HOLDERS AND CONTRIBUTORS \"AS IS\"\n",
      "        AND ANY EXPRESS OR IMPLIED WARRANTIES, INCLUDING, BUT NOT LIMITED TO, THE\n",
      "        IMPLIED WARRANTIES OF MERCHANTABILITY AND FITNESS FOR A PARTICULAR PURPOSE ARE\n",
      "        DISCLAIMED. IN NO EVENT SHALL THE COPYRIGHT HOLDER OR CONTRIBUTORS BE LIABLE\n",
      "        FOR ANY DIRECT, INDIRECT, INCIDENTAL, SPECIAL, EXEMPLARY, OR CONSEQUENTIAL\n",
      "        DAMAGES (INCLUDING, BUT NOT LIMITED TO, PROCUREMENT OF SUBSTITUTE GOODS OR\n",
      "        SERVICES; LOSS OF USE, DATA, OR PROFITS; OR BUSINESS INTERRUPTION) HOWEVER\n",
      "        CAUSED AND ON ANY THEORY OF LIABILITY, WHETHER IN CONTRACT, STRICT LIABILITY,\n",
      "        OR TORT (INCLUDING NEGLIGENCE OR OTHERWISE) ARISING IN ANY WAY OUT OF THE USE\n",
      "        OF THIS SOFTWARE, EVEN IF ADVISED OF THE POSSIBILITY OF SUCH DAMAGE.\n",
      "Location: c:\\programdata\\anaconda3\\envs\\ai\\lib\\site-packages\n",
      "Requires: numpy, python-dateutil, pytz, tzdata\n",
      "Required-by: seaborn\n"
     ]
    }
   ],
   "source": [
    "!pip show pandas "
   ]
  },
  {
   "cell_type": "code",
   "execution_count": 14,
   "id": "58a8be63",
   "metadata": {},
   "outputs": [
    {
     "name": "stdout",
     "output_type": "stream",
     "text": [
      "None\n"
     ]
    }
   ],
   "source": [
    "import os\n",
    "\n",
    "print(os.getenv('OPENAI_API_KEY'))"
   ]
  }
 ],
 "metadata": {
  "kernelspec": {
   "display_name": "ai",
   "language": "python",
   "name": "ai"
  },
  "language_info": {
   "codemirror_mode": {
    "name": "ipython",
    "version": 3
   },
   "file_extension": ".py",
   "mimetype": "text/x-python",
   "name": "python",
   "nbconvert_exporter": "python",
   "pygments_lexer": "ipython3",
   "version": "3.10.14"
  }
 },
 "nbformat": 4,
 "nbformat_minor": 5
}
