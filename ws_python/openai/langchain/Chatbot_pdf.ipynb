{
 "cells": [
  {
   "cell_type": "markdown",
   "id": "92febb1d-c3cb-4d02-bc92-58111c19863d",
   "metadata": {},
   "source": [
    "# 영어 학습 Cahtbot\n",
    "- 우리가 준비한 데이터(커스텀 데이터, private 데이터, 각 기업의 고유 데이터)를 이용한 답변 생성함"
   ]
  },
  {
   "cell_type": "code",
   "execution_count": null,
   "id": "f9bfd330-f57f-416b-bc5c-47299b0b3db1",
   "metadata": {},
   "outputs": [],
   "source": [
    "# Google Colab 환경에서 Google Drive를 사용하려면, 먼저 Google Drive를 마운트해야 한다.\n",
    "# '/content/drive'는 Google Drive가 마운트될 경로\n",
    "# 이 경로를 통해 Google Drive의 파일에 접근할 수 있다.\n",
    "# 'drive.mount' 메서드는 인증 프로세스를 시작하며, Google 계정에 대한 접근 권한을 요청한다.\n",
    "# 이 과정에서 제공된 링크를 클릭하고 인증 코드를 입력해야 한다.\n",
    "from google.colab import drive\n",
    "drive.mount('/content/drive')"
   ]
  },
  {
   "cell_type": "code",
   "execution_count": 2,
   "id": "4fa0e5fd-63ef-4e6c-8ac8-f0d7946b04fd",
   "metadata": {},
   "outputs": [
    {
     "name": "stdout",
     "output_type": "stream",
     "text": [
      "Name: faiss-cpu\n",
      "Version: 1.8.0.post1\n",
      "Summary: A library for efficient similarity search and clustering of dense vectors.\n",
      "Home-page: \n",
      "Author: \n",
      "Author-email: Kota Yamaguchi <yamaguchi_kota@cyberagent.co.jp>\n",
      "License: MIT License\n",
      "Location: c:\\programdata\\anaconda3\\envs\\ai\\lib\\site-packages\n",
      "Requires: numpy, packaging\n",
      "Required-by: \n"
     ]
    }
   ],
   "source": [
    "!pip show faiss-cpu"
   ]
  },
  {
   "cell_type": "code",
   "execution_count": 1,
   "id": "7b12384e-ea2c-4623-8c8a-737578e495ce",
   "metadata": {},
   "outputs": [
    {
     "name": "stderr",
     "output_type": "stream",
     "text": [
      "C:\\ProgramData\\anaconda3\\envs\\ai\\lib\\site-packages\\langchain\\indexes\\vectorstore.py:128: UserWarning: Using InMemoryVectorStore as the default vectorstore.This memory store won't persist data. You should explicitlyspecify a vectorstore when using VectorstoreIndexCreator\n",
      "  warnings.warn(\n"
     ]
    }
   ],
   "source": [
    "from langchain_community.document_loaders import PyPDFLoader\n",
    "from langchain_openai import OpenAIEmbeddings, OpenAI\n",
    "from langchain.indexes.vectorstore import VectorstoreIndexCreator\n",
    "\n",
    "# PDF 파일 로드\n",
    "loader = PyPDFLoader(\"Chatbot_english.pdf\")\n",
    "\n",
    "# OpenAI Embeddings 객체 생성, 임베딩: 자연어 -> Token 분할 (형태소 분할) -> 수치화(실수)\n",
    "embeddings = OpenAIEmbeddings()\n",
    "\n",
    "# VectorstoreIndexCreator 생성, 임베딩 결과 저장 객체 생성\n",
    "index_creator = VectorstoreIndexCreator(embedding=embeddings)\n",
    "\n",
    "# 인덱스 생성\n",
    "index = index_creator.from_loaders([loader])\n",
    "\n",
    "# LLM 생성\n",
    "llm = OpenAI(max_tokens=1024, temperature=0)"
   ]
  },
  {
   "cell_type": "code",
   "execution_count": 2,
   "id": "15500dc7-057c-4809-b97c-67a4967f688a",
   "metadata": {},
   "outputs": [
    {
     "name": "stdout",
     "output_type": "stream",
     "text": [
      "<class 'str'>\n",
      "--------------------------------------------------------------------------------\n",
      " 명사는 일반적으로 사람, 장소, 사물 또는 개념을 나타내는 단어입니다. 예를 들어, \"사람\"은 사람이나 사람의 이름을 나타내는 명사입니다. \"도시\"는 특정 지역을 나타내는 명사이며, \"사과\"는 과일을 나타내는 명사입니다. 명사는 문장에서 주어, 목적어 또는 보어로 사용될 수 있습니다. 또한, 명사는 단수와 복수 형태로 나타날 수 있으며, 보통 뒤에 조사가 붙어 사용됩니다. 출력은 \"명사는 일반적으로 사람, 장소, 사물 또는 개념을 나타내는 단어입니다. 예를 들어, '사람'은 사람이나 사람의 이름을 나타내는 명사입니다. '도시'는 특정 지역을 나타내는 명사이며, '사과'는 과일을 나타내는 명사입니다. 명사는 문장에서 주어, 목적어 또는 보어로 사용될 수 있습니다. 또한, 명사는 단수와 복수 형태로 나타날 수 있으며, 보통 뒤에 조사가 붙어 사용됩니다.\"\n"
     ]
    }
   ],
   "source": [
    "# 질문 입력 및 응답 출력\n",
    "# question = '동사에 대해서 설명해줘.'\n",
    "# question = '명사에 대해서 설명해줘. 출력 형식(json): {\"res\": 답변}'\n",
    "question = '명사에 대해서 3문장 이상으로 설명해줘, 출력은 형식 없이 문자열로 구성해줘.'\n",
    "answer = index.query(question, llm=llm)\n",
    "print(type(answer))\n",
    "print('-' * 80)\n",
    "print(answer)"
   ]
  },
  {
   "cell_type": "markdown",
   "id": "ac9cbc38-a392-4256-87a1-5a5fbba8a292",
   "metadata": {},
   "source": [
    "# 학점 Chatbot"
   ]
  },
  {
   "cell_type": "code",
   "execution_count": 3,
   "id": "31cf84d8-5166-4dfb-b308-6ac88ef09856",
   "metadata": {},
   "outputs": [
    {
     "name": "stderr",
     "output_type": "stream",
     "text": [
      "C:\\ProgramData\\anaconda3\\envs\\ai\\lib\\site-packages\\langchain\\indexes\\vectorstore.py:128: UserWarning: Using InMemoryVectorStore as the default vectorstore.This memory store won't persist data. You should explicitlyspecify a vectorstore when using VectorstoreIndexCreator\n",
      "  warnings.warn(\n"
     ]
    }
   ],
   "source": [
    "from langchain_community.document_loaders import PyPDFLoader\n",
    "from langchain_openai import OpenAIEmbeddings, OpenAI\n",
    "from langchain.indexes.vectorstore import VectorstoreIndexCreator\n",
    "\n",
    "# PDF 파일 로드\n",
    "# PyPDFLoader는 PDF 파일을 읽어서 텍스트로 변환하는 역할을 합니다.\n",
    "# 여기서는 \"Chatbot_hakjum.pdf\" 파일을 로드하고 이를 처리할 준비를 합니다.\n",
    "loader = PyPDFLoader(\"Chatbot_hakjum.pdf\")\n",
    "\n",
    "# OpenAI Embeddings 생성\n",
    "# 텍스트 데이터를 벡터로 변환하기 위해 OpenAI의 임베딩 모델을 사용합니다.\n",
    "# 임베딩은 텍스트를 고차원 벡터로 변환해 유사도 계산이나 검색을 위한 수치화된 표현을 제공합니다.\n",
    "embeddings = OpenAIEmbeddings()\n",
    "\n",
    "# VectorstoreIndexCreator 생성\n",
    "# 벡터스토어 인덱스를 생성하는 객체를 만듭니다. 이 인덱스는 벡터화된 데이터를 빠르게 검색할 수 있는 구조입니다.\n",
    "# 생성된 임베딩을 기반으로 인덱스를 생성합니다.\n",
    "index_creator = VectorstoreIndexCreator(embedding=embeddings)\n",
    "\n",
    "# 인덱스 생성\n",
    "# 로드한 PDF 파일을 기반으로 인덱스를 생성합니다.\n",
    "# 인덱스는 PDF 파일의 텍스트를 벡터화한 후, 빠른 검색이나 유사도 계산을 위해 저장합니다.\n",
    "index = index_creator.from_loaders([loader])\n"
   ]
  },
  {
   "cell_type": "code",
   "execution_count": 4,
   "id": "c6d008f1-bab9-4f08-9bcb-4052ce912687",
   "metadata": {},
   "outputs": [
    {
     "name": "stdout",
     "output_type": "stream",
     "text": [
      " {\"학점\": \"20\"}\n"
     ]
    }
   ],
   "source": [
    "# 질문 입력 및 응답 출력\n",
    "question = '정보처리 기사 자격증의 학점 요건은 몇 학점인가요?. 출력 형식: {\"학점\": 값}'\n",
    "answer = index.query(question, llm=llm)\n",
    "print(answer)"
   ]
  },
  {
   "cell_type": "code",
   "execution_count": null,
   "id": "95f25990-662f-41b8-9bb1-c7c8cbf26ee0",
   "metadata": {},
   "outputs": [],
   "source": []
  }
 ],
 "metadata": {
  "kernelspec": {
   "display_name": "ai",
   "language": "python",
   "name": "ai"
  },
  "language_info": {
   "codemirror_mode": {
    "name": "ipython",
    "version": 3
   },
   "file_extension": ".py",
   "mimetype": "text/x-python",
   "name": "python",
   "nbconvert_exporter": "python",
   "pygments_lexer": "ipython3",
   "version": "3.10.14"
  }
 },
 "nbformat": 4,
 "nbformat_minor": 5
}
