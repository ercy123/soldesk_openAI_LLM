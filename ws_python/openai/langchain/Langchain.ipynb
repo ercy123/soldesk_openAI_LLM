{
 "cells": [
  {
   "cell_type": "markdown",
   "id": "e1c9d812-94a8-4763-902d-9c464bde452e",
   "metadata": {},
   "source": [
    "# Langchain 서비스"
   ]
  },
  {
   "cell_type": "markdown",
   "id": "a5519011-de6c-4441-ab6a-0b0efed5a31a",
   "metadata": {},
   "source": [
    "## YoutubeLoader"
   ]
  },
  {
   "cell_type": "code",
   "execution_count": 1,
   "id": "65541292-6cfc-45c1-a1b2-70cca7b47ef9",
   "metadata": {},
   "outputs": [],
   "source": [
    "from langchain.document_loaders import YoutubeLoader\n",
    "from langchain.chains.summarize import load_summarize_chain\n",
    "from langchain.chat_models import ChatOpenAI"
   ]
  },
  {
   "cell_type": "code",
   "execution_count": 3,
   "id": "c388b5e6-96b5-4cc5-9724-1521eb0202f1",
   "metadata": {},
   "outputs": [
    {
     "name": "stdout",
     "output_type": "stream",
     "text": [
      "Hello world, I’m Carrie Anne, and welcome\n",
      "to CrashCourse Computer Science! Over the course of this series, we’re going\n",
      "to go from bits, bytes, transistors and logic gates, all the way to Operating Systems, Virtual\n",
      "Reality and Robots! We’re going to cover a lot, but just to\n",
      "clear things up - we ARE NOT going to teach you how to program. Instead, we’re going to explore a range\n",
      "of computing topics as a discipline and a technology. Computers are the lifeblood of today’s world. If they were to suddenly turn off, all at\n",
      "once, the power grid would shut down, cars would crash, planes would fall, water treatment\n",
      "plants would stop, stock markets would freeze, trucks with food wouldn’t know where to\n",
      "deliver, and employees wouldn’t get paid. Even many non-computer objects - like DFTBA\n",
      "shirts and the chair I’m sitting on – are made in factories run by computers. Computing really has transformed nearly every\n",
      "aspect of our lives. And this isn’t the first time we’ve seen\n",
      "this sort of technology-driven global change. Advances in manufacturing during the Industrial\n",
      "Revolution brought a new scale to human civilization - in agriculture, industry and domestic life. Mechanization meant superior harvests and\n",
      "more food, mass produced goods, cheaper and faster travel and communication, and usually\n",
      "a better quality of life. And computing technology is doing the same\n",
      "right now – from automated farming and medical equipment, to global telecommunications and\n",
      "educational opportunities, and new frontiers like Virtual Reality and Self Driving Cars. We are living in a time likely to be remembered\n",
      "as the Electronic Age. With billions of transistors in just your\n",
      "smartphones, computers can seem pretty complicated, but really, they’re just simple machines\n",
      "that perform complex actions through many layers of abstraction. So in this series, we’re going break down\n",
      "those layers, and build up from simple 1’s and 0’s, to logic units, CPUs, operating\n",
      "systems, the entire internet and beyond. And don’t worry, in the same way someone\n",
      "buying t-shirts on a webpage doesn’t need to know how that webpage was programmed, or\n",
      "the web designer doesn’t need to know how all the packets are routed, or router engineers\n",
      "don’t need to know about transistor logic, this series will build on previous episodes\n",
      "but not be dependent on them. By the end of this series, I hope that you\n",
      "can better contextualize computing’s role both in your own life and society, and how\n",
      "humanity's (arguably) greatest invention is just in its infancy, with its biggest impacts\n",
      "yet to come. But before we get into all that, we should\n",
      "start at computing’s origins, because although electronic computers are relatively new, the\n",
      "need for computation is not. INTRO The earliest recognized device for computing was the abacus, invented in Mesopotamia around\n",
      "2500 BCE. It’s essentially a hand operated calculator,\n",
      "that helps add and subtract many numbers. It also stores the current state of the computation,\n",
      "much like your hard drive does today. The abacus was created because, the scale\n",
      "of society had become greater than what a single person could keep and manipulate in\n",
      "their mind. There might be thousands of people in a village\n",
      "or tens of thousands of cattle. There are many variants of the abacus, but\n",
      "let’s look at a really basic version with each row representing a different power of\n",
      "ten. So each bead on the bottom row represents\n",
      "a single unit, in the next row they represent 10, the row above 100, and so on. Let’s say we have 3 heads of cattle represented\n",
      "by 3 beads on the bottom row on the right side. If we were to buy 4 more cattle we would just\n",
      "slide 4 more beads to the right for a total of 7. But if we were to add 5 more after the first\n",
      "3 we would run out of beads, so we would slide everything back to the left, slide one bead\n",
      "on the second row to the right, representing ten, and then add the final 2 beads on the\n",
      "bottom row for a total of 12. This is particularly useful with large numbers. So if we were to add 1,251 we would just add\n",
      "1 to the bottom row, 5 to the second row, 2 to the third row, and 1 to the fourth row\n",
      "- we don’t have to add in our head and the abacus stores the total for us. Over the next 4000 years, humans developed\n",
      "all sorts of clever computing devices, like the astrolabe, which enabled ships to calculate\n",
      "their latitude at sea. Or the slide rule, for assisting with multiplication\n",
      "and division. And there are literally hundred of types of\n",
      "clocks created that could be used to calculate sunrise, tides, positions of celestial bodies,\n",
      "and even just the time. Each one of these devices made something that\n",
      "was previously laborious to calculate much faster, easier, and often more accurate –– it\n",
      "lowered the barrier to entry, and at the same time, amplified our mental abilities –– take\n",
      "note, this is a theme we’re going to touch on a lot in this series. As early computer pioneer Charles Babbage\n",
      "said: “At each increase of knowledge, as well as on the contrivance of every new tool,\n",
      "human labour becomes abridged.” However, none of these devices were called\n",
      "“computers”. The earliest documented use of the word “computer”\n",
      "is from 1613, in a book by Richard Braithwait. And it wasn’t a machine at all - it was\n",
      "a job title. Braithwait said,\n",
      "“I have read the truest computer of times, and the best arithmetician that ever breathed,\n",
      "and he reduceth thy dayes into a short number”. In those days, computer was a person who did\n",
      "calculations, sometimes with the help of machines, but often not. This job title persisted until the late 1800s,\n",
      "when the meaning of computer started shifting to refer to devices. Notable among these devices was the Step Reckoner,\n",
      "built by German polymath Gottfried Leibniz in 1694. Leibniz said “... it is beneath the dignity\n",
      "of excellent men to waste their time in calculation when any peasant could do the work just as\n",
      "accurately with the aid of a machine.” It worked kind of like the odometer in your\n",
      "car, which is really just a machine for adding up the number of miles your car has driven. The device had a series of gears that turned;\n",
      "each gear had ten teeth, to represent the digits from 0 to 9. Whenever a gear bypassed nine, it rotated\n",
      "back to 0 and advanced the adjacent gear by one tooth. Kind of like when hitting 10 on\n",
      "that basic abacus. This worked in reverse when doing subtraction,\n",
      "too. With some clever mechanical tricks, the Step\n",
      "Reckoner was also able to multiply and divide numbers. Multiplications and divisions are really just\n",
      "many additions and subtractions. For example, if we want to divide 17 by 5,\n",
      "we just subtract 5, then 5, then 5 again, and then we can’t subtract any more 5’s…\n",
      "so we know 5 goes into 17 three times, with 2 left over. The Step Reckoner was able to do this in an\n",
      "automated way, and was the first machine that could do all four of these operations. And this design was so successful it was used\n",
      "for the next three centuries of calculator design. Unfortunately, even with mechanical calculators,\n",
      "most real world problems required many steps of computation before an answer was determined. It could take hours or days to generate a\n",
      "single result. Also, these hand-crafted machines were expensive,\n",
      "and not accessible to most of the population. So, before 20th century, most people experienced\n",
      "computing through pre-computed tables assembled by those amazing “human computers” we\n",
      "talked about. So if you needed to know the square root of\n",
      "8 million 6 hundred and 75 thousand 3 hundred and 9, instead of spending all day hand-cranking\n",
      "your step reckoner, you could look it up in a huge book full of square root tables in\n",
      "a minute or so. Speed and accuracy is particularly important\n",
      "on the battlefield, and so militaries were among the first to apply computing to complex\n",
      "problems. A particularly difficult problem is accurately\n",
      "firing artillery shells, which by the 1800s could travel well over a kilometer (or a bit\n",
      "more than half a mile). Add to this varying wind conditions, temperature,\n",
      "and atmospheric pressure, and even hitting something as large as a ship was difficult. Range Tables were created that allowed gunners\n",
      "to look up environmental conditions and the distance they wanted to fire, and the table\n",
      "would tell them the angle to set the canon. These Range Tables worked so well, they were\n",
      "used well into World War Two. The problem was, if you changed the design\n",
      "of the cannon or of the shell, a whole new table had to be computed, which was massively\n",
      "time consuming and inevitably led to errors. Charles Babbage acknowledged this problem\n",
      "in 1822 in a paper to the Royal Astronomical Society entitled: “Note on the application\n",
      "of machinery to the computation of astronomical and mathematical tables\". Let’s go to the thought bubble. Charles Babbage proposed a new mechanical\n",
      "device called the Difference Engine, a much more complex machine that could approximate\n",
      "polynomials. Polynomials describe the relationship between\n",
      "several variables - like range and air pressure, or amount of pizza Carrie Anne eats and happiness. Polynomials could also be used to approximate\n",
      "logarithmic and trigonometric functions, which are a real hassle to calculate by hand. Babbage started construction in 1823, and\n",
      "over the next two decades, tried to fabricate and assemble the 25,000 components, collectively\n",
      "weighing around 15 tons. Unfortunately, the project was ultimately abandoned. But, in 1991, historians finished constructing\n",
      "a Difference Engine based on Babbage's drawings and writings - and it worked! But more importantly, during construction\n",
      "of the Difference Engine, Babbage imagined an even more complex machine - the Analytical\n",
      "Engine. Unlike the Difference Engine, Step Reckoner\n",
      "and all other computational devices before it - the Analytical Engine was a “general\n",
      "purpose computer”. It could be used for many things, not just\n",
      "one particular computation; it could be given data and run operations in sequence; it had\n",
      "memory and even a primitive printer. Like the Difference Engine, it was ahead of\n",
      "its time, and was never fully constructed. However, the idea of an “automatic computer”\n",
      "– one that could guide itself through a series of operations automatically, was a\n",
      "huge deal, and would foreshadow computer programs. English mathematician Ada Lovelace wrote hypothetical\n",
      "programs for the Analytical Engine, saying, “A new, a vast, and a powerful language\n",
      "is developed for the future use of analysis.” For her work, Ada is often considered the\n",
      "world’s first programmer. The Analytical Engine would inspire, arguably,\n",
      "the first generation of computer scientists, who incorporated many of Babbage’s ideas\n",
      "in their machines. This is why Babbage is often considered the\n",
      "\"father of computing\". Thanks Thought Bubble! So by the end of the 19th century, computing\n",
      "devices were used for special purpose tasks in the sciences and engineering, but rarely\n",
      "seen in business, government or domestic life. However, the US government faced a serious\n",
      "problem for its 1890 census that demanded the kind of efficiency that only computers\n",
      "could provide. The US Constitution requires that a census\n",
      "be conducted every ten years, for the purposes of distributing federal funds, representation\n",
      "in congress, and good stuff like that. And by 1880, the US population was booming,\n",
      "mostly due to immigration. That census took seven years to manually compile\n",
      "and by the time it was completed, it was already out of date – and it was predicted that\n",
      "the 1890 census would take 13 years to compute. That’s a little problematic when it’s\n",
      "required every decade! The Census bureau turned to Herman Hollerith,\n",
      "who had built a tabulating machine. His machine was “electro-mechanical” – it\n",
      "used traditional mechanical systems for keeping count, like Leibniz’s Step Reckoner –– but\n",
      "coupled them with electrically-powered components. Hollerith’s machine used punch cards which\n",
      "were paper cards with a grid of locations that can be punched out to represent data. For example, there was a series of holes for\n",
      "marital status. If you were married, you would punch out the\n",
      "married spot, then when the card was inserted into Hollerith’s machine, little metal pins\n",
      "would come down over the card – if a spot was punched out, the pin would pass through\n",
      "the hole in the paper and into a little vial of mercury, which completed the circuit. This now completed circuit powered an electric\n",
      "motor, which turned a gear to add one, in this case, to the “married” total. Hollerith’s machine was roughly 10x faster\n",
      "than manual tabulations, and the Census was completed in just two and a half years - saving\n",
      "the census office millions of dollars. Businesses began recognizing the value of\n",
      "computing, and saw its potential to boost profits by improving labor- and data-intensive\n",
      "tasks, like accounting, insurance appraisals, and inventory management. To meet this demand, Hollerith founded The\n",
      "Tabulating Machine Company, which later merged with other machine makers in 1924 to become\n",
      "The International Business Machines Corporation or IBM - which you’ve probably heard of. These electro-mechanical “business machines”\n",
      "were a huge success, transforming commerce and government, and by the mid-1900s, the\n",
      "explosion in world population and the rise of globalized trade demanded even faster and\n",
      "more flexible tools for processing data, setting the stage for digital computers, which we’ll\n",
      "talk about next week.\n"
     ]
    }
   ],
   "source": [
    "# YouTubeLoader 모듈을 이용해 YouTube URL에서 데이터를 로드\n",
    "loader = YoutubeLoader.from_youtube_url('https://www.youtube.com/watch?v=O5nskjZ_GoI', add_video_info=True)\n",
    "\n",
    "# 해당 YouTube 영상의 스크립트 데이터를 불러옴 (script 변수에 저장)\n",
    "script = loader.load()\n",
    "\n",
    "# 불러온 스크립트의 첫 번째 페이지의 내용(page_content)을 출력\n",
    "print(script[0].page_content)\n"
   ]
  },
  {
   "cell_type": "code",
   "execution_count": null,
   "id": "8b0821e6-5e9b-4a22-915a-72e2d3f0efd9",
   "metadata": {},
   "outputs": [],
   "source": [
    "!pip install -U langchain-openai"
   ]
  },
  {
   "cell_type": "code",
   "execution_count": null,
   "id": "9dc389db-996e-41e4-aefe-04eeaca817f4",
   "metadata": {},
   "outputs": [],
   "source": [
    "!pip show  langchain-openai"
   ]
  },
  {
   "cell_type": "code",
   "execution_count": 5,
   "id": "56a99437-21ba-4c9e-bbef-054f48f62116",
   "metadata": {},
   "outputs": [
    {
     "name": "stdout",
     "output_type": "stream",
     "text": [
      "3033\n"
     ]
    }
   ],
   "source": [
    "# LangChain 라이브러리와 OpenAI 모델을 사용하여 텍스트의 토큰 수를 계산하는 기능\n",
    "# 0.3.0 이후\n",
    "# pip install -U langchain-openai\n",
    "# from langchain_openai import OpenAI\n",
    "\n",
    "# 0.0.10 ~ 0.3.0에서만 사용\n",
    "from langchain.llms import OpenAI\n",
    "\n",
    "# OpenAI의 LLM(Language Learning Model) 인스턴스 생성\n",
    "# 모델명은 \"text-ada-001\"을 사용하고, 한 번에 하나의 응답을 생성함\n",
    "llm = OpenAI(model_name=\"text-ada-001\", n=1, best_of=1)\n",
    "\n",
    "\n",
    "# 주어진 텍스트의 토큰 수를 계산하여 출력하는 코드\n",
    "# script[0].page_content: 분석할 텍스트 \n",
    "# get_num_tokens(): 텍스트의 토큰 수를 반환하는 함수\n",
    "print(llm.get_num_tokens(script[0].page_content))\n"
   ]
  },
  {
   "cell_type": "code",
   "execution_count": 6,
   "id": "a7231980-358c-4b4a-98b6-3ab3d3057b28",
   "metadata": {},
   "outputs": [
    {
     "name": "stderr",
     "output_type": "stream",
     "text": [
      "C:\\Users\\samsung\\AppData\\Local\\Temp\\ipykernel_33136\\95108777.py:12: LangChainDeprecationWarning: The class `ChatOpenAI` was deprecated in LangChain 0.0.10 and will be removed in 1.0. An updated version of the class exists in the :class:`~langchain-openai package and should be used instead. To use it run `pip install -U :class:`~langchain-openai` and import as `from :class:`~langchain_openai import ChatOpenAI``.\n",
      "  llm = ChatOpenAI(api_key=api_key, temperature=0)\n",
      "C:\\Users\\samsung\\AppData\\Local\\Temp\\ipykernel_33136\\95108777.py:16: LangChainDeprecationWarning: The method `Chain.run` was deprecated in langchain 0.1.0 and will be removed in 1.0. Use :meth:`~invoke` instead.\n",
      "  result = chain.run(script)\n"
     ]
    },
    {
     "name": "stdout",
     "output_type": "stream",
     "text": [
      "Carrie Anne introduces CrashCourse Computer Science, covering a range of computing topics without teaching programming. Computers are essential to modern life, impacting everything from power grids to food delivery. The series explores the history of computing, from the abacus to Charles Babbage's Difference Engine and Analytical Engine. The US government's use of Herman Hollerith's tabulating machine for the 1890 census marked the beginning of computers in business and government. This led to the founding of IBM and the development of digital computers to meet the demands of a growing population and global trade.\n"
     ]
    }
   ],
   "source": [
    "# 요약\n",
    "# chain = load_summarize_chain(ChatOpenAI(temperature=0), chain_type='stuff', verbose=False)\n",
    "# result = chain.run(script)\n",
    "# print(result)\n",
    "\n",
    "# OpenAI API 키 설정 \n",
    "\n",
    "with open(\"./GPT_Key.txt\", \"r\") as f:\n",
    "    api_key = f.read().strip()\n",
    "\n",
    "# ChatOpenAI 인스턴스 생성\n",
    "llm = ChatOpenAI(api_key=api_key, temperature=0)\n",
    "\n",
    "# 요약 체인 실행\n",
    "chain = load_summarize_chain(llm, chain_type='stuff', verbose=False)\n",
    "result = chain.run(script)\n",
    "print(result)"
   ]
  },
  {
   "cell_type": "code",
   "execution_count": 7,
   "id": "1a8997a0-87ce-4470-9c7e-c845d889bc8e",
   "metadata": {},
   "outputs": [
    {
     "name": "stdout",
     "output_type": "stream",
     "text": [
      "-> prompt: 아래 문장을 한국어로 번역해줘.\n",
      "\n",
      "Carrie Anne introduces CrashCourse Computer Science, covering a range of computing topics without teaching programming. Computers are essential to modern life, impacting everything from power grids to food delivery. The series explores the history of computing, from the abacus to Charles Babbage's Difference Engine and Analytical Engine. The US government's use of Herman Hollerith's tabulating machine for the 1890 census marked the beginning of computers in business and government. This led to the founding of IBM and the development of digital computers to meet the demands of a growing population and global trade.\n",
      "--------------------------------------------------------------------------------\n",
      "캐리 앤은 프로그래밍을 가르치지 않고 다양한 컴퓨팅 주제를 다루는 CrashCourse 컴퓨터 과학을 소개합니다. 컴퓨터는 현대 생활에 필수적이며, 전력망에서 음식 배달에 이르기까지 모든 것에 영향을 미칩니다. 이 시리즈는 주판에서 찰스 배비지의 차분 기관과 분석 기관에 이르기까지 컴퓨팅의 역사를 탐구합니다. 1890년 인구 조사에서 허먼 홀러리트의 집계 기계를 사용한 미국 정부의 사례는 비즈니스와 정부에서 컴퓨터의 시작을 알렸습니다. 이는 IBM의 설립과 증가하는 인구와 글로벌 무역의 요구를 충족하기 위한 디지털 컴퓨터의 발전으로 이어졌습니다.\n"
     ]
    }
   ],
   "source": [
    "# 한글로 번역\n",
    "import tool\n",
    "\n",
    "sentence = tool.remove_empty_lines(result) # 빈 라인 삭제\n",
    "# print(sentence)\n",
    "prompt = f'아래 문장을 한국어로 번역해줘.\\n\\n{sentence}'\n",
    "print('-> prompt: ' + prompt)\n",
    "print('-' * 80)\n",
    "format = '''\n",
    "{\n",
    "  \"res\": \"번역된 문장\"\n",
    "}\n",
    "'''\n",
    "\n",
    "response = tool.answer('너는 번역기야', prompt, format)\n",
    "\n",
    "print(response['res'])\n",
    "\n",
    "# gpt-4o\n",
    "# 캐리 앤은 프로그래밍을 가르치지 않고 다양한 컴퓨팅 주제를 다루는 CrashCourse Computer Science를 소개합니다. \n",
    "# 그녀는 현대 사회에서 컴퓨터의 중요성과 그들의 변혁적인 영향을 논의합니다. \n",
    "# 주판에서 찰스 배비지의 차분기와 분석 엔진에 이르기까지 컴퓨팅의 역사가 탐구됩니다. \n",
    "# 특정 작업을 위한 컴퓨팅 장치의 개발은 허먼 홀러리스에 의해 최초의 범용 컴퓨터가 만들어지게 했으며, \n",
    "# 이는 비즈니스와 정부에서 데이터 처리를 혁신했습니다. 이는 이후 디지털 컴퓨터의 기초를 마련했습니다."
   ]
  },
  {
   "cell_type": "code",
   "execution_count": null,
   "id": "05418bdd-c518-49a5-97ae-4a58da33b872",
   "metadata": {},
   "outputs": [],
   "source": []
  },
  {
   "cell_type": "code",
   "execution_count": 8,
   "id": "bbf0b112-eb00-406a-ac44-40c4e2c08af6",
   "metadata": {},
   "outputs": [
    {
     "name": "stdout",
     "output_type": "stream",
     "text": [
      "Spicy stir-fried pork and kimchi (Dwaeji-kimchi duruchigi 돼지김치 두루치기)\n",
      "<Stream: itag=\"18\" mime_type=\"video/mp4\" res=\"360p\" fps=\"24fps\" vcodec=\"avc1.42001E\" acodec=\"mp4a.40.2\" progressive=\"True\" type=\"video\">\n",
      "<Stream: itag=\"137\" mime_type=\"video/mp4\" res=\"1080p\" fps=\"24fps\" vcodec=\"avc1.640028\" progressive=\"False\" type=\"video\">\n",
      "<Stream: itag=\"248\" mime_type=\"video/webm\" res=\"1080p\" fps=\"24fps\" vcodec=\"vp9\" progressive=\"False\" type=\"video\">\n",
      "<Stream: itag=\"399\" mime_type=\"video/mp4\" res=\"1080p\" fps=\"24fps\" vcodec=\"av01.0.08M.08\" progressive=\"False\" type=\"video\">\n",
      "<Stream: itag=\"136\" mime_type=\"video/mp4\" res=\"720p\" fps=\"24fps\" vcodec=\"avc1.4d401f\" progressive=\"False\" type=\"video\">\n",
      "<Stream: itag=\"247\" mime_type=\"video/webm\" res=\"720p\" fps=\"24fps\" vcodec=\"vp9\" progressive=\"False\" type=\"video\">\n",
      "<Stream: itag=\"398\" mime_type=\"video/mp4\" res=\"720p\" fps=\"24fps\" vcodec=\"av01.0.05M.08\" progressive=\"False\" type=\"video\">\n",
      "<Stream: itag=\"135\" mime_type=\"video/mp4\" res=\"480p\" fps=\"24fps\" vcodec=\"avc1.4d401e\" progressive=\"False\" type=\"video\">\n",
      "<Stream: itag=\"244\" mime_type=\"video/webm\" res=\"480p\" fps=\"24fps\" vcodec=\"vp9\" progressive=\"False\" type=\"video\">\n",
      "<Stream: itag=\"397\" mime_type=\"video/mp4\" res=\"480p\" fps=\"24fps\" vcodec=\"av01.0.04M.08\" progressive=\"False\" type=\"video\">\n",
      "<Stream: itag=\"134\" mime_type=\"video/mp4\" res=\"360p\" fps=\"24fps\" vcodec=\"avc1.4d401e\" progressive=\"False\" type=\"video\">\n",
      "<Stream: itag=\"243\" mime_type=\"video/webm\" res=\"360p\" fps=\"24fps\" vcodec=\"vp9\" progressive=\"False\" type=\"video\">\n",
      "<Stream: itag=\"396\" mime_type=\"video/mp4\" res=\"360p\" fps=\"24fps\" vcodec=\"av01.0.01M.08\" progressive=\"False\" type=\"video\">\n",
      "<Stream: itag=\"133\" mime_type=\"video/mp4\" res=\"240p\" fps=\"24fps\" vcodec=\"avc1.4d4015\" progressive=\"False\" type=\"video\">\n",
      "<Stream: itag=\"242\" mime_type=\"video/webm\" res=\"240p\" fps=\"24fps\" vcodec=\"vp9\" progressive=\"False\" type=\"video\">\n",
      "<Stream: itag=\"395\" mime_type=\"video/mp4\" res=\"240p\" fps=\"24fps\" vcodec=\"av01.0.00M.08\" progressive=\"False\" type=\"video\">\n",
      "<Stream: itag=\"160\" mime_type=\"video/mp4\" res=\"144p\" fps=\"24fps\" vcodec=\"avc1.4d400c\" progressive=\"False\" type=\"video\">\n",
      "<Stream: itag=\"278\" mime_type=\"video/webm\" res=\"144p\" fps=\"24fps\" vcodec=\"vp9\" progressive=\"False\" type=\"video\">\n",
      "<Stream: itag=\"394\" mime_type=\"video/mp4\" res=\"144p\" fps=\"24fps\" vcodec=\"av01.0.00M.08\" progressive=\"False\" type=\"video\">\n",
      "<Stream: itag=\"139\" mime_type=\"audio/mp4\" abr=\"48kbps\" acodec=\"mp4a.40.5\" progressive=\"False\" type=\"audio\">\n",
      "<Stream: itag=\"140\" mime_type=\"audio/mp4\" abr=\"128kbps\" acodec=\"mp4a.40.2\" progressive=\"False\" type=\"audio\">\n",
      "<Stream: itag=\"249\" mime_type=\"audio/webm\" abr=\"50kbps\" acodec=\"opus\" progressive=\"False\" type=\"audio\">\n",
      "<Stream: itag=\"250\" mime_type=\"audio/webm\" abr=\"70kbps\" acodec=\"opus\" progressive=\"False\" type=\"audio\">\n",
      "<Stream: itag=\"251\" mime_type=\"audio/webm\" abr=\"160kbps\" acodec=\"opus\" progressive=\"False\" type=\"audio\">\n"
     ]
    },
    {
     "name": "stderr",
     "output_type": "stream",
     "text": [
      "C:\\Users\\samsung\\AppData\\Local\\Temp\\ipykernel_33136\\1289602418.py:10: DeprecationWarning: Call to deprecated function all (This object can be treated as a list, all() is useless).\n",
      "  streams = yt.streams.all()\n"
     ]
    },
    {
     "data": {
      "text/plain": [
       "'F:\\\\ai\\\\ws_python\\\\openai_ex\\\\langchain\\\\Spicy stir-fried pork and kimchi (Dwaeji-kimchi duruchigi 돼지김치 두루치기).mp4'"
      ]
     },
     "execution_count": 8,
     "metadata": {},
     "output_type": "execute_result"
    }
   ],
   "source": [
    "from pytubefix import YouTube\n",
    "\n",
    "# YouTube 비디오 객체 생성\n",
    "yt = YouTube('https://www.youtube.com/watch?v=jmkD21Q25SY&t=11s')\n",
    "\n",
    "# 비디오 제목 출력\n",
    "print(yt.title)\n",
    "\n",
    "# 비디오의 스트림 정보 확인\n",
    "streams = yt.streams.all()\n",
    "for stream in streams:\n",
    "    print(stream)\n",
    "\n",
    "# 최고 화질의 비디오 다운로드\n",
    "yt.streams.get_highest_resolution().download()\n"
   ]
  },
  {
   "cell_type": "code",
   "execution_count": null,
   "id": "c507cf5e-203a-4e87-921f-e4b4e0a5a5fe",
   "metadata": {},
   "outputs": [],
   "source": []
  }
 ],
 "metadata": {
  "kernelspec": {
   "display_name": "ai",
   "language": "python",
   "name": "ai"
  },
  "language_info": {
   "codemirror_mode": {
    "name": "ipython",
    "version": 3
   },
   "file_extension": ".py",
   "mimetype": "text/x-python",
   "name": "python",
   "nbconvert_exporter": "python",
   "pygments_lexer": "ipython3",
   "version": "3.10.14"
  }
 },
 "nbformat": 4,
 "nbformat_minor": 5
}
