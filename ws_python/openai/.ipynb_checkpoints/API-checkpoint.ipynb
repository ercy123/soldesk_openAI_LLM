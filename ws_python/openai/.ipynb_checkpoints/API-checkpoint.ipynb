{
 "cells": [
  {
   "cell_type": "markdown",
   "id": "407414f2-4675-45f7-a9d5-3b0b6ea588ed",
   "metadata": {},
   "source": [
    "# OpenAI API 1.30.3"
   ]
  },
  {
   "cell_type": "code",
   "execution_count": 6,
   "id": "be5d93bf-3760-4ccc-80bd-c7499410b53d",
   "metadata": {},
   "outputs": [],
   "source": [
    "import os\n",
    "\n",
    "    \n",
    "#print(os.getenv('OPENAI_API_KEY'))\n",
    "# print(os.getenv('OPENAI_API_KEY_GPT'))"
   ]
  },
  {
   "cell_type": "code",
   "execution_count": 15,
   "id": "32980a3b",
   "metadata": {},
   "outputs": [],
   "source": [
    "with open(\"./GPT_Key.txt\", \"r\" ) as f:\n",
    "    api_key = f.read().strip()"
   ]
  },
  {
   "cell_type": "code",
   "execution_count": 16,
   "id": "51f47177-5b9e-4de8-989d-bb4f0114dcc4",
   "metadata": {},
   "outputs": [],
   "source": [
    "import os\n",
    "import time\n",
    "import json \n",
    "\n",
    "from openai import OpenAI # 1.x~\n",
    "\n",
    "# OpenAI class 객체 생성, api_key 변수에 key 할당, os.getenv: 환경 변수 예) Path...\n",
    "# 소스에 키가 등록되면 github등에 전송시 노출 될 수 있음.\n",
    "#client = OpenAI(api_key=os.getenv('OPENAI_API_KEY')) # OPENAI_API_KEY\n",
    "\n",
    "#openai.api_key=api_key \n",
    "\n",
    "client = OpenAI(api_key=api_key) # OPENAI_API_KEY\n",
    "prompt = '등산의 효과 알려줘.';\n",
    "\n",
    "response = client.chat.completions.create( # 1.x\n",
    "    model=\"gpt-4o-mini-2024-07-18\",\n",
    "    messages=[\n",
    "        {\n",
    "            'role': 'system',\n",
    "            'content': '너는 의사야'\n",
    "        },\n",
    "        {\n",
    "            'role': 'user',\n",
    "            'content': prompt + '\\n\\n출력 형식: JSON으로 출력해줘.' \n",
    "        }\n",
    "    ],\n",
    "    n=1,             # 응답수, 다양한 응답 생성 가능\n",
    "    max_tokens=512,  # 응답 생성시 최대 1000개의 단어 사용\n",
    "    temperature=0,   # 창의적인 응답여부, 값이 클수록 확률에 기반한 창의적인 응답이 생성됨\n",
    "    response_format= { \"type\":\"json_object\" }\n",
    ")"
   ]
  },
  {
   "cell_type": "code",
   "execution_count": 17,
   "id": "12b699ba-c91d-4343-b47a-a1785d9a64e9",
   "metadata": {},
   "outputs": [
    {
     "name": "stdout",
     "output_type": "stream",
     "text": [
      "<class 'openai.types.chat.chat_completion.ChatCompletion'>\n",
      "ChatCompletion(id='chatcmpl-AEnltdzMCadTbJL0JoEhKbzulQ6wH', choices=[Choice(finish_reason='stop', index=0, logprobs=None, message=ChatCompletionMessage(content='{\\n  \"등산의 효과\": {\\n    \"신체적 효과\": {\\n      \"심혈관 건강\": \"심장과 혈관의 기능을 개선하고 심혈관 질환의 위험을 줄임.\",\\n      \"근력 강화\": \"다리와 코어 근육을 강화하여 전반적인 근력 향상.\",\\n      \"체중 관리\": \"칼로리 소모를 통해 체중 조절에 도움.\",\\n      \"유연성 향상\": \"다양한 지형에서의 움직임으로 유연성 증가.\"\\n    },\\n    \"정신적 효과\": {\\n      \"스트레스 감소\": \"자연 속에서의 활동이 스트레스를 줄이고 기분을 개선.\",\\n      \"집중력 향상\": \"자연 환경에서의 활동이 집중력을 높임.\",\\n      \"정신적 안정\": \"명상과 유사한 효과로 마음의 평화를 제공.\"\\n    },\\n    \"사회적 효과\": {\\n      \"사회적 상호작용\": \"동반자와의 대화 및 새로운 사람들과의 만남을 통해 사회적 관계 형성.\",\\n      \"팀워크 향상\": \"단체 등산을 통해 협력과 팀워크 능력 향상.\"\\n    },\\n    \"자연과의 연결\": {\\n      \"자연 감상\": \"자연의 아름다움을 경험하고 환경에 대한 인식 증진.\",\\n      \"생태계 이해\": \"자연 속에서 다양한 생물과 생태계를 이해하는 기회 제공.\"\\n    }\\n  }\\n}', refusal=None, role='assistant', function_call=None, tool_calls=None))], created=1728091277, model='gpt-4o-mini-2024-07-18', object='chat.completion', service_tier=None, system_fingerprint='fp_f85bea6784', usage=CompletionUsage(completion_tokens=323, prompt_tokens=34, total_tokens=357, completion_tokens_details=CompletionTokensDetails(reasoning_tokens=0), prompt_tokens_details={'cached_tokens': 0}))\n"
     ]
    }
   ],
   "source": [
    "print(type(response)) # <class 'openai.types.chat.chat_completion.ChatCompletion'>\n",
    "print(response)"
   ]
  },
  {
   "cell_type": "code",
   "execution_count": 5,
   "id": "98324e8a-5bd3-4c06-b93f-e2cef8bd1e76",
   "metadata": {},
   "outputs": [
    {
     "name": "stdout",
     "output_type": "stream",
     "text": [
      "<class 'str'>\n",
      "{\n",
      "  \"등산의 효과\": {\n",
      "    \"신체적 효과\": {\n",
      "      \"심혈관 건강\": \"등산은 심장과 혈관의 건강을 증진시켜 심혈관 질환의 위험을 줄입니다.\",\n",
      "      \"근력 강화\": \"다양한 경사와 지형에서의 운동은 하체 근육을 강화합니다.\",\n",
      "      \"체중 관리\": \"칼로리 소모가 많아 체중 조절에 도움을 줍니다.\",\n",
      "      \"유연성 향상\": \"다양한 지형을 오르내리면서 유연성을 개선합니다.\"\n",
      "    },\n",
      "    \"정신적 효과\": {\n",
      "      \"스트레스 감소\": \"자연 속에서의 활동은 스트레스를 줄이고 기분을 좋게 합니다.\",\n",
      "      \"집중력 향상\": \"자연 환경에서의 운동은 집중력을 높이는 데 도움을 줍니다.\",\n",
      "      \"우울증 예방\": \"정기적인 등산은 우울증 증상을 완화하는 데 효과적입니다.\"\n",
      "    },\n",
      "    \"사회적 효과\": {\n",
      "      \"사회적 상호작용\": \"동료와 함께 등산함으로써 사회적 유대감을 형성할 수 있습니다.\",\n",
      "      \"커뮤니티 참여\": \"등산 동호회나 그룹 활동을 통해 새로운 사람들을 만날 수 있습니다.\"\n",
      "    },\n",
      "    \"자연과의 연결\": {\n",
      "      \"자연 감상\": \"자연 속에서의 활동은 자연에 대한 감사를 느끼게 합니다.\",\n",
      "      \"환경 보호 의식\": \"자연을 경험함으로써 환경 보호에 대한 의식을 높일 수 있습니다.\"\n",
      "    }\n",
      "  }\n",
      "}\n"
     ]
    }
   ],
   "source": [
    "print(type(response.choices[0].message.content))\n",
    "print(response.choices[0].message.content)"
   ]
  },
  {
   "cell_type": "code",
   "execution_count": 7,
   "id": "ff77b188-5c21-4616-be40-8843b90a93fc",
   "metadata": {},
   "outputs": [],
   "source": [
    "# print(response.choices[0].message.content['효과']) # X"
   ]
  },
  {
   "cell_type": "code",
   "execution_count": 11,
   "id": "fc55c680-b7de-4cfb-94d9-32444f417133",
   "metadata": {},
   "outputs": [
    {
     "name": "stdout",
     "output_type": "stream",
     "text": [
      "<class 'dict'>\n",
      "{'신체적 효과': {'심혈관 건강': '등산은 심장과 혈관의 건강을 증진시켜 심혈관 질환의 위험을 줄입니다.', '근력 강화': '다양한 경사와 지형에서의 운동은 하체 근육을 강화합니다.', '체중 관리': '칼로리 소모가 많아 체중 조절에 도움을 줍니다.', '유연성 향상': '다양한 지형을 오르내리면서 유연성을 개선합니다.'}, '정신적 효과': {'스트레스 감소': '자연 속에서의 활동은 스트레스를 줄이고 기분을 좋게 합니다.', '집중력 향상': '자연 환경에서의 운동은 집중력을 높이는 데 도움을 줍니다.', '우울증 예방': '정기적인 등산은 우울증 증상을 완화하는 데 효과적입니다.'}, '사회적 효과': {'사회적 상호작용': '동료와 함께 등산함으로써 사회적 유대감을 형성할 수 있습니다.', '커뮤니티 참여': '등산 동호회나 그룹 활동을 통해 새로운 사람들을 만날 수 있습니다.'}, '자연과의 연결': {'자연 감상': '자연 속에서의 활동은 자연에 대한 감사를 느끼게 합니다.', '환경 보호 의식': '자연을 경험함으로써 환경 보호에 대한 의식을 높일 수 있습니다.'}}\n"
     ]
    }
   ],
   "source": [
    "res = json.loads(response.choices[0].message.content) # str -> dict(json)\n",
    "print(type(res)) # <class 'dict'>\n",
    "print(res['등산의 효과'])"
   ]
  },
  {
   "cell_type": "markdown",
   "id": "0c4ad619-26ec-4730-af0b-f010ef8c16ab",
   "metadata": {},
   "source": [
    "# tool.py 모듈의 사용"
   ]
  },
  {
   "cell_type": "code",
   "execution_count": 10,
   "id": "8ece531d-537e-4c2e-b6ab-7b5b24755ec2",
   "metadata": {},
   "outputs": [],
   "source": [
    "import tool"
   ]
  },
  {
   "cell_type": "code",
   "execution_count": 11,
   "id": "25f94460-1392-487b-8376-cacb4b018b0d",
   "metadata": {},
   "outputs": [
    {
     "name": "stdout",
     "output_type": "stream",
     "text": [
      "{'translated_text': \"I will become the forest over there, and you will climb the small hill and look at me. It's okay if it's just a corner of my little heart.\"}\n"
     ]
    }
   ],
   "source": [
    "prompt = '[난 저기 숲이 돼볼게 너는 자그맣기만 한 언덕 위를 오르며 날 바라볼래 나의 작은 마음 한구석이어도 돼] 문장을 영어로 번역해줘.'\n",
    "response = tool.answer(role='너는 번역가야', prompt=prompt, output='json', format='{\"translated_text\": \"값\"}') \n",
    "print(response)"
   ]
  },
  {
   "cell_type": "code",
   "execution_count": 12,
   "id": "d986112a-f84a-4f3f-9cc9-c3a91ae75ad4",
   "metadata": {},
   "outputs": [
    {
     "name": "stdout",
     "output_type": "stream",
     "text": [
      "{'food': '삼겹살'}\n"
     ]
    }
   ],
   "source": [
    "prompt = '내 나이는 20대야, 오늘 저녁 친구 생일이야 고기 종류로 메뉴 추천해줘, 너무 값비싼 메뉴는 추천하지 말아줘.'\n",
    "response = tool.answer(role='너는 고기집 사장이야', prompt=prompt, output='json', format='{\"food\": \"값\"}') \n",
    "print(response)"
   ]
  },
  {
   "cell_type": "code",
   "execution_count": 16,
   "id": "bcf66112-0699-4bdf-8619-db4375498370",
   "metadata": {},
   "outputs": [
    {
     "name": "stdout",
     "output_type": "stream",
     "text": [
      "{'삼겹살': '12000원', '목살': '13000원', '닭갈비': '11000원', '돼지갈비': '15000원'}\n"
     ]
    }
   ],
   "source": [
    "prompt = '내 나이는 20대야, 오늘 저녁 친구 생일이야 고기 종류로 메뉴 추천해줘, 너무 값비싼 메뉴는 추천하지 말아줘.'\n",
    "response = tool.answer(role='너는 고기집 사장이야', prompt=prompt, output='json', \n",
    "                       format='{\"food\": \"값\"}', llm='gpt-4-turbo') \n",
    "print(response)"
   ]
  },
  {
   "cell_type": "code",
   "execution_count": 17,
   "id": "ff7fac4c-16d7-43d7-a8fb-59d35fa2926b",
   "metadata": {},
   "outputs": [
    {
     "name": "stdout",
     "output_type": "stream",
     "text": [
      "{'food': '삼겹살'}\n"
     ]
    }
   ],
   "source": [
    "prompt = '내 나이는 20대야, 오늘 저녁 친구 생일이야 고기 종류로 메뉴 추천해줘, 너무 값비싼 메뉴는 추천하지 말아줘.'\n",
    "response = tool.answer(role='너는 고기집 사장이야', prompt=prompt, output='json', \n",
    "                       format='{\"food\": \"값\"}', llm='gpt-4o') \n",
    "print(response)"
   ]
  },
  {
   "cell_type": "code",
   "execution_count": 18,
   "id": "6131a0ec-7603-422e-a94e-25a3461b22ec",
   "metadata": {},
   "outputs": [
    {
     "name": "stdout",
     "output_type": "stream",
     "text": [
      "{'food': {'소고기 불고기': '15,000원', '돼지고기 삼겹살': '12,000원', '닭고기 양념구이': '10,000원', '소고기 차돌박이': '18,000원', '돼지고기 목살': '11,000원', '양념 갈비': '16,000원', '오징어 구이': '9,000원'}}\n"
     ]
    }
   ],
   "source": [
    "prompt = '내 나이는 20대야, 오늘 저녁 친구 생일이야 고기 종류로 메뉴 7가지 추천해줘, 너무 값비싼 메뉴는 추천하지 말아줘.'\n",
    "response = tool.answer(role='너는 고기집 사장이야', prompt=prompt, output='json', format='{\"food\": \"값\"}') \n",
    "print(response)"
   ]
  },
  {
   "cell_type": "code",
   "execution_count": 44,
   "id": "d4bb55fc-cbbc-471a-95bf-41bb52e8b8a2",
   "metadata": {},
   "outputs": [
    {
     "name": "stdout",
     "output_type": "stream",
     "text": [
      "{'가수': '이문세', '노래 제목': '옛사랑'}\n"
     ]
    }
   ],
   "source": [
    "prompt = '[가사] 난 저기 숲이 돼볼게 너는 자그맣기만 한 언덕 위를 오르며 날 바라볼래 나의 작은 마음 한구석이어도 돼'\n",
    "response = tool.answer(role='가수', prompt=prompt, output='json', format='{\"가수\": 이름, \"노래 제목\": 제목}') \n",
    "print(response)"
   ]
  },
  {
   "cell_type": "code",
   "execution_count": 43,
   "id": "75ded8ce-383a-4957-8353-88a32b742845",
   "metadata": {},
   "outputs": [
    {
     "name": "stdout",
     "output_type": "stream",
     "text": [
      "I will become the forest over there, and you will climb the small hill and look at me. It's okay if you are just a small corner of my heart.\n",
      "{'가수': '폴킴', '노래 제목': 'New Day'}\n"
     ]
    }
   ],
   "source": [
    "prompt = '[난 저기 숲이 돼볼게 너는 자그맣기만 한 언덕 위를 오르며 날 바라볼래 나의 작은 마음 한구석이어도 돼] 영어로 번역해줘'\n",
    "response = tool.answer(role='너는 번역가야', prompt=prompt, output='json', format='{\"translated_text\": \"값\"}') \n",
    "print(response['translated_text'])\n",
    "\n",
    "prompt = '아래 가사의 가수와 노래 제목을 알려줘\\n\\n' + response['translated_text']\n",
    "response = tool.answer(role='가수', prompt=prompt, output='json', \n",
    "                       format='{\"가수\": 이름, \"노래 제목\": 제목}', llm='gpt-4-turbo') \n",
    "print(response)"
   ]
  },
  {
   "cell_type": "code",
   "execution_count": 42,
   "id": "db57ac7a-3efd-4f89-8ebb-11e07308ee51",
   "metadata": {},
   "outputs": [
    {
     "name": "stdout",
     "output_type": "stream",
     "text": [
      "{'가수': 'Keane', '노래 제목': 'Somewhere Only We Know'}\n"
     ]
    }
   ],
   "source": [
    "prompt = '아래 가사의 가수와 노래 제목을 알려줘\\n\\nI walked across an empty land, I knew the pathway like the back of my hand I felt the earth beneath my feet, Sat by the river, and it made me complete'\n",
    "response = tool.answer(role='가수', prompt=prompt, output='json', \n",
    "                       format='{\"가수\": 이름, \"노래 제목\": 제목}', llm='gpt-4-turbo') \n",
    "print(response)"
   ]
  },
  {
   "cell_type": "code",
   "execution_count": 41,
   "id": "b63c6b6d-ace3-487e-b8d4-ed6705f565c3",
   "metadata": {},
   "outputs": [
    {
     "name": "stdout",
     "output_type": "stream",
     "text": [
      "{'title': '여수 밤바다', 'artist': '버스커 버스커'}\n"
     ]
    }
   ],
   "source": [
    "prompt='''\n",
    "아래 가사의 노래 제목과 가수 이름을 알려줘\n",
    "\n",
    "[가사]\n",
    "여수 밤바다 이 조명에 담긴 아름다운 얘기가 있어\n",
    "네게 들려주고파 전활 걸어 뭐하고 있냐고\n",
    "나는 지금 여수 밤바다 여수 밤바다나의 옛날 동네\n",
    "옛날 동네 반지하 빌라엔\n",
    "네 가족 오순 도순\n",
    "오순 도순 잘 살고 있었네\n",
    "'''\n",
    "\n",
    "response = tool.answer('가수', prompt) \n",
    "\n",
    "print(response)"
   ]
  },
  {
   "cell_type": "code",
   "execution_count": null,
   "id": "0f47bfa4-c2aa-49d8-bd32-3394c216f92e",
   "metadata": {},
   "outputs": [],
   "source": []
  }
 ],
 "metadata": {
  "kernelspec": {
   "display_name": "Python 3 (ipykernel)",
   "language": "python",
   "name": "python3"
  },
  "language_info": {
   "codemirror_mode": {
    "name": "ipython",
    "version": 3
   },
   "file_extension": ".py",
   "mimetype": "text/x-python",
   "name": "python",
   "nbconvert_exporter": "python",
   "pygments_lexer": "ipython3",
   "version": "3.10.14"
  }
 },
 "nbformat": 4,
 "nbformat_minor": 5
}
