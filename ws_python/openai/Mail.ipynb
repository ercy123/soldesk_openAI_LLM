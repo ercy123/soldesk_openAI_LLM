{
 "cells": [
  {
   "cell_type": "code",
<<<<<<< HEAD
   "execution_count": 5,
=======
   "execution_count": 3,
>>>>>>> 4afaffa (20241012 commit)
   "id": "64a59e94",
   "metadata": {},
   "outputs": [
    {
     "name": "stdout",
     "output_type": "stream",
     "text": [
<<<<<<< HEAD
      "메일을 발송했습니다.\n"
=======
      "메일을 발송했습니다.\n",
      "메일을 발송했습니다2.\n"
>>>>>>> 4afaffa (20241012 commit)
     ]
    }
   ],
   "source": [
    "import smtplib\n",
    "\n",
    "from email.mime.multipart import MIMEMultipart  \n",
    "from email.mime.text import MIMEText\n",
    "\n",
    "def send_email():  \n",
    "    from_addr = 'tekjin01@gmail.com'\n",
    "    to_addr = 'ercy123@naver.com'\n",
    " \n",
    "    server = smtplib.SMTP('smtp.gmail.com:587')\n",
    "    server.starttls()\n",
    " \n",
    "    server.login(from_addr, 'pgci upzh qfne eodb')\n",
    " \n",
    "    body = MIMEMultipart()\n",
    "    body['subject'] = \"Python mail 전송 test\"\n",
    "    body['From'] = from_addr\n",
    "    body['To'] = to_addr\n",
    " \n",
    "    html   = \"<div>\"\n",
    "    html += \"  GDP 정보와 금융 동향 발표자료를 보냅니다.<br>\"\n",
    "    html += \"  <img src='https://i.namu.wiki/i/yLuwE5PCFLWOHW7G91sC72pqv8JXM7jnlWXO9YogEMZvS-QqS47dnmmq2JVLYUj8mzObOByNkIUm96wS0St1lg.webp' style='width: 50%;'>\" # 이미지 전송시 절대 경로\n",
    "    html += \"  <br><br>\"\n",
    "    html += \"  <a href='http://www.lectureblue.pe.kr/GDP.zip'>발표 자료 다운로드</a>\" \n",
    "    html += \"</div>\"\n",
    "    msg = MIMEText(html, 'html')\n",
    "    body.attach(msg)\n",
    " \n",
    "    server.sendmail(from_addr=from_addr,\n",
    "                        to_addrs=[to_addr],  # list, str 둘 다 가능\n",
    "                        msg=body.as_string())\n",
    " \n",
    "    server.quit()\n",
    "    print('메일을 발송했습니다.')\n",
    "    \n",
    "if __name__ == '__main__':\n",
<<<<<<< HEAD
    "    send_email()"
=======
    "    send_email()\n",
    "    "
>>>>>>> 4afaffa (20241012 commit)
   ]
  }
 ],
 "metadata": {
  "kernelspec": {
   "display_name": "ai",
   "language": "python",
<<<<<<< HEAD
   "name": "ai"
=======
   "name": "python3"
>>>>>>> 4afaffa (20241012 commit)
  },
  "language_info": {
   "codemirror_mode": {
    "name": "ipython",
    "version": 3
   },
   "file_extension": ".py",
   "mimetype": "text/x-python",
   "name": "python",
   "nbconvert_exporter": "python",
   "pygments_lexer": "ipython3",
   "version": "3.10.14"
  }
 },
 "nbformat": 4,
 "nbformat_minor": 5
}
